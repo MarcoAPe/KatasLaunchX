{
 "cells": [
  {
   "cell_type": "markdown",
   "metadata": {},
   "source": [
    "## Ejercicio 1\n",
    "#### Construye la solución al siguiente problema:\n",
    "- Destaca hechos interesantes sobre la luna.\n",
    "- Convierte las unidades de C a Celsius."
   ]
  },
  {
   "cell_type": "code",
   "execution_count": 29,
   "metadata": {},
   "outputs": [
    {
     "name": "stdout",
     "output_type": "stream",
     "text": [
      "\n",
      "There are several interesting facts about the Moon and how it affects life here on Earth\n",
      "\n",
      "On average, the Moon moves 4cm away from the Earth every year\n",
      " \n",
      "The highest daylight temperature of the Moon is 127 C\n"
     ]
    }
   ],
   "source": [
    "text=\"\"\"Interesting facts about the Moon. The Moon is Earth's only satellite.\n",
    "There are several interesting facts about the Moon and how it affects life here on Earth.\n",
    "On average, the Moon moves 4cm away from the Earth every year.\n",
    "This yearly drift is not significant enough to cause immediate effects on Earth. \n",
    "The highest daylight temperature of the Moon is 127 C\"\"\"\n",
    "words=['average','interesting','temperature']\n",
    "textS=text.split('.')\n",
    "for p in textS:\n",
    "    for pp in words:\n",
    "        if pp in p:\n",
    "            print(p)"
   ]
  },
  {
   "cell_type": "markdown",
   "metadata": {},
   "source": [
    "Hasta este punto sólo hemos destacado las frases relevantes acerca de datos curiosos de la Luna, sin embargo si quisiéramos también ser específicos con la temperatura que usamos en uno de esos datos podemos hacer lo siguiente:"
   ]
  },
  {
   "cell_type": "code",
   "execution_count": 31,
   "metadata": {},
   "outputs": [
    {
     "name": "stdout",
     "output_type": "stream",
     "text": [
      "\n",
      "There are several interesting facts about the Moon and how it affects life here on Earth\n",
      "\n",
      "On average, the Moon moves 4cm away from the Earth every year\n",
      " \n",
      "The highest daylight temperature of the Moon is 127 Celsius\n"
     ]
    }
   ],
   "source": [
    "text=\"\"\"Interesting facts about the Moon. The Moon is Earth's only satellite.\n",
    "There are several interesting facts about the Moon and how it affects life here on Earth.\n",
    "On average, the Moon moves 4cm away from the Earth every year.\n",
    "This yearly drift is not significant enough to cause immediate effects on Earth. \n",
    "The highest daylight temperature of the Moon is 127 C\"\"\"\n",
    "words=['average','interesting','temperature']\n",
    "textS=text.replace('C','Celsius').split('.')\n",
    "for p in textS:\n",
    "    for pp in words:\n",
    "        if pp in p:\n",
    "            print(p)"
   ]
  },
  {
   "cell_type": "markdown",
   "metadata": {},
   "source": [
    "## Ejercicio 2\n",
    "#### Modificar el formato."
   ]
  },
  {
   "cell_type": "code",
   "execution_count": 110,
   "metadata": {},
   "outputs": [
    {
     "name": "stdout",
     "output_type": "stream",
     "text": [
      "Gravity Facts About The Moon\n",
      "Planet Name: Earth\n",
      "Gravity On Moon= 1.6199999999999999 m\n"
     ]
    }
   ],
   "source": [
    "n=\"\"\"moon\"\"\"\n",
    "g=0.00162\n",
    "p=\"\"\"earth\"\"\"\n",
    "nn='gravity facts about the '+n\n",
    "pp='planet name: '+p\n",
    "gg='gravity on '+n+'='\n",
    "t=f'{nn.title()}\\n'\n",
    "pl=f'{pp.title()}\\n{gg.title()} {g*1000} m'\n",
    "print(t+pl)\n"
   ]
  },
  {
   "cell_type": "markdown",
   "metadata": {},
   "source": [
    "El código parece funcionar bien. Ahora lo probaremos con otras variables iniciales."
   ]
  },
  {
   "cell_type": "code",
   "execution_count": 111,
   "metadata": {},
   "outputs": [
    {
     "name": "stdout",
     "output_type": "stream",
     "text": [
      "Gravity Facts About The Ganímedes\n",
      "Planet Name: Mars\n",
      "Gravity On Ganímedes= 1.4300000000000002 m\n"
     ]
    }
   ],
   "source": [
    "n=\"\"\"ganímedes\"\"\"\n",
    "g=0.00143\n",
    "p=\"\"\"mars\"\"\"\n",
    "nn='gravity facts about the '+n\n",
    "pp='planet name: '+p\n",
    "gg='gravity on '+n+'='\n",
    "t=f'{nn.title()}\\n'\n",
    "pl=f'{pp.title()}\\n{gg.title()} {g*1000} m'\n",
    "print(t+pl)"
   ]
  }
 ],
 "metadata": {
  "interpreter": {
   "hash": "5373e4c839551b5a4c1aa565f0c42cf3d9a6b1c39ccce8e7d85d697e072f5ac8"
  },
  "kernelspec": {
   "display_name": "Python 3.10.2 64-bit",
   "language": "python",
   "name": "python3"
  },
  "language_info": {
   "codemirror_mode": {
    "name": "ipython",
    "version": 3
   },
   "file_extension": ".py",
   "mimetype": "text/x-python",
   "name": "python",
   "nbconvert_exporter": "python",
   "pygments_lexer": "ipython3",
   "version": "3.10.2"
  },
  "orig_nbformat": 4
 },
 "nbformat": 4,
 "nbformat_minor": 2
}
