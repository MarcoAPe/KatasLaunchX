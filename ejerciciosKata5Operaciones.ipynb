{
 "cells": [
  {
   "cell_type": "markdown",
   "metadata": {},
   "source": [
    "## Ejercicio 1.\n",
    "- Crear un programa que calcule la distancia entre dos planetas."
   ]
  },
  {
   "cell_type": "code",
   "execution_count": 2,
   "metadata": {},
   "outputs": [
    {
     "data": {
      "text/plain": [
       "'La distancia entre ambos planetas es de 628949330 km o de 390577534 millas'"
      ]
     },
     "execution_count": 2,
     "metadata": {},
     "output_type": "execute_result"
    }
   ],
   "source": [
    "Tierra=149597870\n",
    "Júpiter=778547200\n",
    "Distancia_total_km=abs(round(Tierra-Júpiter))\n",
    "Distancia_total_m=round(Distancia_total_km*0.621)\n",
    "f'La distancia entre ambos planetas es de {Distancia_total_km} km o de {Distancia_total_m} millas'"
   ]
  },
  {
   "cell_type": "markdown",
   "metadata": {},
   "source": [
    "## Ejercicio 2.\n",
    "- Crear un programa que acepte distancias de planetas y calcule la distancia real entre ellos."
   ]
  },
  {
   "cell_type": "code",
   "execution_count": 7,
   "metadata": {},
   "outputs": [
    {
     "data": {
      "text/plain": [
       "'La distancia real entre los planetas es de 713347 km o de 442988.487 millas.'"
      ]
     },
     "execution_count": 7,
     "metadata": {},
     "output_type": "execute_result"
    }
   ],
   "source": [
    "planeta_1=abs(int(input('Inserta la distancia del primer planeta: ')))\n",
    "planeta_2=abs(int(input('Inserta la distancia del segundo planeta: ')))\n",
    "distancia_neta_km=round(abs(planeta_1-planeta_2))\n",
    "distancia_neta_m=round(distancia_neta_km*0.621)\n",
    "f'La distancia real entre los planetas es de {distancia_neta_km} km o de {distancia_neta_m} millas.'"
   ]
  }
 ],
 "metadata": {
  "interpreter": {
   "hash": "5373e4c839551b5a4c1aa565f0c42cf3d9a6b1c39ccce8e7d85d697e072f5ac8"
  },
  "kernelspec": {
   "display_name": "Python 3.10.2 64-bit",
   "language": "python",
   "name": "python3"
  },
  "language_info": {
   "codemirror_mode": {
    "name": "ipython",
    "version": 3
   },
   "file_extension": ".py",
   "mimetype": "text/x-python",
   "name": "python",
   "nbconvert_exporter": "python",
   "pygments_lexer": "ipython3",
   "version": "3.10.2"
  },
  "orig_nbformat": 4
 },
 "nbformat": 4,
 "nbformat_minor": 2
}
