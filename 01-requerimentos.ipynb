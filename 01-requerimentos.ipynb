{
 "cells": [
  {
   "cell_type": "markdown",
   "metadata": {},
   "source": [
    "# 1. Descripción general del requerimento\n",
    "\n",
    "|           **Proyecto**          | Aplicación capaz de automatizar el proceso de recepción de casos de demanda y simplificar la comunicación entre el solicitante y asesor legal. |\n",
    "|:-------------------------------:|:----------------------------------------------------------------------------------------------------------------------------------------------:|\n",
    "|            **Nombre**           |                                                                    Abogabot                                                                    |\n",
    "|      **Fecha de solicitud**     |                                                                   20/02/2022                                                                   |\n",
    "|   **Responsable de solicitud**  |                                                                Rodrigo Martínez                                                                |\n",
    "| **Dependencia del solicitante** |                                                               Innovaccion Virtual                                                              |\n",
    "|    **Responsable funcional**    |                                                                   Marco Pérez                                                                  |\n"
   ]
  },
  {
   "cell_type": "markdown",
   "metadata": {},
   "source": [
    "# 2. Formalización\n",
    "|                                                                                                                                                                                                                                                                                                                                                                                                                                       **DESCRIPCIÓN DE LA SOLICITUD**                                                                                                                                                                                                                                                                                                                                                                                                                                      |\n",
    "|:----------------------------------------------------------------------------------------------------------------------------------------------------------------------------------------------------------------------------------------------------------------------------------------------------------------------------------------------------------------------------------------------------------------------------------------------------------------------------------------------------------------------------------------------------------------------------------------------------------------------------------------------------------------------------------------------------------------------------------------------------------------------------------------------------------------------------------------------------------------------------------------------------------:|\n",
    "|                                                                                                                                                                                                                                                                                                                                                                                                                                           **Solcitante: Rodrigo Martínez**                                                                                                                                                                                                                                                                                                                                                                                                                                          |\n",
    "| Es un despacho de abogados que quiere automatizar las demandas de sus clientes, esto lo harán a través de una página web, llenando un formulario. Al momento de llenar el formulario se manda al proceso de pago para finalizar la transacción. Para dar seguimiento a su demanda, el cliente crea una cuenta en la plataforma y verá el seguimiento de cada una de las actualizaciones del proceso legal. El administrador del sitio recibe la notificación de una nueva demanda y con los datos llenados del formulario se crea automáticamente el documento legal en formato word para empezar el proceso. El administrador recibe el pago y debe de ser capaz de verlo en un dashboard para ver la cantidad de ingresos recibidos. El administrador actualiza el proceso de la demanda y agrega comentarios en cada paso del proceso. La página debe ser responsive para poder verla desde el celular. |\n",
    "|                                                                                                                                                                                                                                                                                                                                                                                                                                             **Líder funcional: Marco Pérez**                                                                                                                                                                                                                                                                                                                                                                                                                                            |\n",
    "| Se requiere crear una aplicación capaz de automatizar la solicitud, proceso y recepción de una demanda desde la emisión y pago de los servicios por parte del solicitante, hasta la recepción por parte del asesor legal que prestará sus servicios, todo esto en formato word. La aplicación debe notificar al solicitante cada vez que haya una modificación en el proceso legal, en donde podrá conocer detalles adicionales proporcionados por el asesor, acerca de cada paso. Debe ser accesible especialmente desde dispositivos móviles y ser fácil de manipular.                                                                                                                                                                                                                                                                     \n",
    "\n",
    "##### Firmas de conformidad\n",
    "\n",
    "|           ____________________________________          |        ___________________________________        |\n",
    "|:-------------------------------------------------------:|:-------------------------------------------------:|\n",
    "| Rodrigo Martínez\\| Innovaccion Virtual | Marco Pérez\\| Departamento de TI |\n"
   ]
  },
  {
   "cell_type": "markdown",
   "metadata": {},
   "source": [
    "# 3. Análisis de requisitos y requerimentos\n",
    "Nuestro despacho de abogados constituido por:\n",
    "- **Parte administrativa.**\n",
    "    - Atención al cliente.\n",
    "    - Contabilidad.\n",
    "    - Marketing.\n",
    "    - Recursos humanos.\n",
    "- **Parte técnica.**\n",
    "    - Servicios.\n",
    "        - Personas físicas y morales.\n",
    "            - Asesoría puntual.\n",
    "            - Seguimiento de caso.\n",
    "        - Agencia de auditoría.\n",
    "    - Manejo de la información.\n",
    "    - Tipo de abogacía requerida.*\n",
    "\n",
    "###### *Penal, civil, comercial, laboral, tributaria, constitucional, administrativa, etc.\n",
    "\n",
    "Trabaja actualmente de la siguiente forma en lo que solicitar un servicio refiere:\n",
    "\n",
    "\n",
    "\n",
    "Abogabot estaría soportado de la mayoría de las áreas en algún aspecto por lo que su adición reorganizaría el proceso (áreas involucradas directamente):\n",
    "\n",
    "\n",
    "\n",
    "- En un <span style=\"color:green\">primer paso</span> Abogabot filtra las necesidades del cliente para analizarse y decidirse los servicios requeridos.\n",
    "- En un <span style=\"color:orange\">segundo paso</span> se costean los requerimentos del caso y se realiza el cobro.\n",
    "- En un <span style=\"color:purple\">último paso</span> paso toda la información es proporcionada al asesor legal y lo comunica directamente con el solicitante.\n"
   ]
  }
 ],
 "metadata": {
  "interpreter": {
   "hash": "5373e4c839551b5a4c1aa565f0c42cf3d9a6b1c39ccce8e7d85d697e072f5ac8"
  },
  "kernelspec": {
   "display_name": "Python 3.10.2 64-bit",
   "language": "python",
   "name": "python3"
  },
  "language_info": {
   "name": "python",
   "version": "3.10.2"
  },
  "orig_nbformat": 4
 },
 "nbformat": 4,
 "nbformat_minor": 2
}
